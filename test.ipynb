{
 "cells": [
  {
   "cell_type": "code",
   "execution_count": 12,
   "metadata": {},
   "outputs": [
    {
     "name": "stdout",
     "output_type": "stream",
     "text": [
      "\t\t\t\t\t toto\n",
      "================================================================================\n"
     ]
    }
   ],
   "source": [
    "nom = \"toto\" \n",
    "\n",
    "if nom == \"brigitte\":\n",
    "    pass\n",
    "elif nom == \"toto\": \n",
    "    print(\"\\t\"*5, nom)\n",
    "    print(\"=\"*80)\n",
    "else :\n",
    "    print(\"ne sera jamais print\")"
   ]
  },
  {
   "cell_type": "code",
   "execution_count": 18,
   "metadata": {},
   "outputs": [
    {
     "name": "stdout",
     "output_type": "stream",
     "text": [
      "=====================================title======================================\n",
      "===================================grandtitre===================================\n"
     ]
    }
   ],
   "source": [
    "print(f'{\"title\" :=^80}')\n",
    "print(f'{\"grandtitre\" :=^80}')"
   ]
  },
  {
   "cell_type": "code",
   "execution_count": 22,
   "metadata": {},
   "outputs": [
    {
     "data": {
      "text/plain": [
       "array([ 0. ,  0.5,  1. ,  1.5,  2. ,  2.5,  3. ,  3.5,  4. ,  4.5,  5. ,\n",
       "        5.5,  6. ,  6.5,  7. ,  7.5,  8. ,  8.5,  9. ,  9.5, 10. , 10.5])"
      ]
     },
     "execution_count": 22,
     "metadata": {},
     "output_type": "execute_result"
    }
   ],
   "source": [
    "import numpy as np\n",
    "np.arange(0,11,0.5)\n"
   ]
  },
  {
   "cell_type": "code",
   "execution_count": 41,
   "metadata": {},
   "outputs": [
    {
     "name": "stdout",
     "output_type": "stream",
     "text": [
      "0.5326313498799414\n",
      "0.8494413315748648\n",
      "0.7888450171461305\n",
      "0.5919783289960957\n",
      "0.7807718003835529\n",
      "0.16881163933463206\n"
     ]
    }
   ],
   "source": [
    "from numpy.random import rand\n",
    "tot = 1\n",
    "while tot>.5:\n",
    "    \n",
    "    tot = rand()\n",
    "    print(tot)"
   ]
  },
  {
   "cell_type": "code",
   "execution_count": 53,
   "metadata": {},
   "outputs": [
    {
     "data": {
      "text/plain": [
       "[0, 2, 4]"
      ]
     },
     "execution_count": 53,
     "metadata": {},
     "output_type": "execute_result"
    }
   ],
   "source": [
    "list_comp = [f*2 for f in range(10) if f<3]\n",
    "list_comp"
   ]
  },
  {
   "cell_type": "code",
   "execution_count": 47,
   "metadata": {},
   "outputs": [
    {
     "name": "stdout",
     "output_type": "stream",
     "text": [
      "False\n"
     ]
    }
   ],
   "source": [
    "tot = False\n",
    "\n",
    "if tot is not True:\n",
    "    print(tot)"
   ]
  },
  {
   "cell_type": "code",
   "execution_count": 52,
   "metadata": {},
   "outputs": [
    {
     "data": {
      "text/plain": [
       "[1, 'test', 2, 'anton']"
      ]
     },
     "execution_count": 52,
     "metadata": {},
     "output_type": "execute_result"
    }
   ],
   "source": [
    "maliste = [1,2, \"anton\"]\n",
    "maliste.insert(1, \"test\")\n",
    "maliste"
   ]
  }
 ],
 "metadata": {
  "kernelspec": {
   "display_name": "base",
   "language": "python",
   "name": "python3"
  },
  "language_info": {
   "codemirror_mode": {
    "name": "ipython",
    "version": 3
   },
   "file_extension": ".py",
   "mimetype": "text/x-python",
   "name": "python",
   "nbconvert_exporter": "python",
   "pygments_lexer": "ipython3",
   "version": "3.12.4"
  }
 },
 "nbformat": 4,
 "nbformat_minor": 2
}
